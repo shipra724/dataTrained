{
 "cells": [
  {
   "cell_type": "code",
   "execution_count": 4,
   "id": "933598a6",
   "metadata": {},
   "outputs": [
    {
     "name": "stdout",
     "output_type": "stream",
     "text": [
      "Enter the number of rows: 5\n",
      "        *   \n",
      "       *  *   \n",
      "      *  *  *   \n",
      "     *  *  *  *   \n",
      "    *  *  *  *  *   \n"
     ]
    }
   ],
   "source": [
    "#11.\tWrite a python function print pyramid of stars. Level of the pyramid should be taken as an input from the user. \n",
    "n = int(input(\"Enter the number of rows: \"))  \n",
    "m = (2 * n) - 2  \n",
    "for i in range(0, n):  \n",
    "    for j in range(0, m):  \n",
    "        print(end=\" \")  \n",
    "    m = m - 1  # decrementing m after each loop  \n",
    "    for j in range(0, i + 1):  \n",
    "        \n",
    "        print(\"* \", end=' ')  \n",
    "    print(\" \")  "
   ]
  },
  {
   "cell_type": "code",
   "execution_count": 17,
   "id": "e01af68c",
   "metadata": {},
   "outputs": [
    {
     "name": "stdout",
     "output_type": "stream",
     "text": [
      "  * * * * * * r\n",
      "   * * * * * r\n",
      "    * * * * r\n",
      "     * * * r\n",
      "      * * r\n",
      "       * r\n",
      "* r\n",
      "* * r\n",
      "* * * r\n",
      "* * * * r\n",
      "* * * * * r\n",
      "* * * * * * r\n"
     ]
    }
   ],
   "source": [
    "# 12.\tWrite a python function print Hourglass pattern\n",
    "\n",
    "def pattern(n):\n",
    "     k = n - 2\n",
    "for i in range(n, -1 , -1):\n",
    "    for j in range(k , 0 , -1):\n",
    "        print(end=\" \")\n",
    "    k = k + 1   \n",
    "    for j in range(0, i+1):\n",
    "        print(\"* \" , end=\"\")\n",
    "    print(\"r\")\n",
    "k = 2 * n  - 2\n",
    "for i in range(0 , n+1):\n",
    "    for j in range(0 , k):\n",
    "        print(end=\"\")\n",
    "    k = k - 1\n",
    "    for j in range(0, i + 1):\n",
    "        print(\"* \", end=\"\")\n",
    "    print(\"r\")\n",
    "            \n",
    "pattern(5)"
   ]
  },
  {
   "cell_type": "code",
   "execution_count": 8,
   "id": "9d613383",
   "metadata": {},
   "outputs": [
    {
     "name": "stdout",
     "output_type": "stream",
     "text": [
      "Enter the number: 5\n",
      "           1 \n",
      "          1      1 \n",
      "         1      2      1 \n",
      "        1      3      3      1 \n",
      "       1      4      6      4      1 \n"
     ]
    }
   ],
   "source": [
    "# 13.\tWrite a python function to print Pascal’s Triangle. The number of levels in the triangle must be taken as input by the user\n",
    "num = int(input(\"Enter the number: \"))  \n",
    "list1 = [] #an empty list  \n",
    "for i in range(num):  \n",
    "  list1.append([])  \n",
    "  list1[i].append(1)  \n",
    "  for j in range(1, i):  \n",
    "    list1[i].append(list1[i - 1][j - 1] + list1[i - 1][j])  \n",
    "  if(num != 0):  \n",
    "    list1[i].append(1)  \n",
    "for i in range(num):  \n",
    "  print(\" \" * (num - i), end = \" \", sep = \" \")  \n",
    "  for j in range(0, i + 1):  \n",
    "    print('{0:6}'.format(list1[i][j]), end = \" \", sep = \" \")  \n",
    "  print()  "
   ]
  },
  {
   "cell_type": "code",
   "execution_count": 9,
   "id": "7114ac08",
   "metadata": {},
   "outputs": [
    {
     "name": "stdout",
     "output_type": "stream",
     "text": [
      "    *\n",
      "   ***\n",
      "  *****\n",
      " *******\n",
      "*********\n",
      " *******\n",
      "  *****\n",
      "   ***\n",
      "    *\n"
     ]
    }
   ],
   "source": [
    "# 14. Write a python function to print Diamond Shaped Pattern \n",
    "def Diamond(rows):\n",
    "    n = 0\n",
    "    for i in range(1, rows + 1):\n",
    "        # loop to print spaces\n",
    "        for j in range (1, (rows - i) + 1):\n",
    "            print(end = \" \")\n",
    "          \n",
    "        # loop to print star\n",
    "        while n != (2 * i - 1):\n",
    "            print(\"*\", end = \"\")\n",
    "            n = n + 1\n",
    "        n = 0\n",
    "          \n",
    "        # line break\n",
    "        print() \n",
    "  \n",
    "    k = 1\n",
    "    n = 1\n",
    "    for i in range(1, rows):\n",
    "        # loop to print spaces\n",
    "        for j in range (1, k + 1):\n",
    "            print(end = \" \")\n",
    "        k = k + 1\n",
    "          \n",
    "        # loop to print star\n",
    "        while n <= (2 * (rows - i) - 1):\n",
    "            print(\"*\", end = \"\")\n",
    "            n = n + 1\n",
    "        n = 1\n",
    "        print()\n",
    "  \n",
    "# Driver Code\n",
    "# number of rows input\n",
    "rows = 5\n",
    "Diamond(rows)"
   ]
  },
  {
   "cell_type": "code",
   "execution_count": 3,
   "id": "f9d9b4d2",
   "metadata": {},
   "outputs": [
    {
     "name": "stdout",
     "output_type": "stream",
     "text": [
      "Enter diamond's height: 5\n",
      "      *\n",
      "     ***\n",
      "    *****\n",
      "   *******\n",
      "  *********\n",
      "   *******\n",
      "    *****\n",
      "     ***\n",
      "      *\n"
     ]
    }
   ],
   "source": [
    "# 15. Write a python function to print Diamond Shaped Character Pattern \n",
    "h = eval(input(\"Enter diamond's height: \"))\n",
    "for x in range(h):\n",
    "    print(\" \" * (h - x), \"*\" * (2*x + 1))\n",
    "for x in range(h - 2, -1, -1):\n",
    "    print(\" \" * (h - x), \"*\" * (2*x + 1))"
   ]
  }
 ],
 "metadata": {
  "kernelspec": {
   "display_name": "Python 3 (ipykernel)",
   "language": "python",
   "name": "python3"
  },
  "language_info": {
   "codemirror_mode": {
    "name": "ipython",
    "version": 3
   },
   "file_extension": ".py",
   "mimetype": "text/x-python",
   "name": "python",
   "nbconvert_exporter": "python",
   "pygments_lexer": "ipython3",
   "version": "3.9.12"
  }
 },
 "nbformat": 4,
 "nbformat_minor": 5
}
